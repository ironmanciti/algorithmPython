{
 "cells": [
  {
   "cell_type": "markdown",
   "metadata": {},
   "source": [
    "# 18. 정규식(Regular Expression)\n",
    "\n",
    "#### 정규식 혹은 정규표현식은 특정한 규칙을 가진 문자열의 집단을 표현하는 방식이다.\n",
    "\n",
    "#### Python 은 정규식을 지원하는 re module 을 제공한다. 사용 방법은 다음과 같다.  \n",
    "\n",
    "    1. re.compile 을 이용하여 정규식을 compile 하여 pattern 객체를 얻음.  \n",
    "    2. pattern 객체를 이용하여 문자열의 검색을 수행.   \n",
    "    \n",
    "      - 검색 method :  \n",
    "        \n",
    "        search() - 문자열 전체를 검색하여 정규식과 match 되는지 조사  (문자열의 아무곳이나 match)  \n",
    "            \n",
    "        match = re.search(pattern, str)\n",
    "\n",
    "        검색하여 match 되는 문자열이 있으면 match object 를 반환하고, 없으면 None 이 반환된다.\n",
    "        \n",
    "        match 다음에 즉시 if 문으로 match 성공 여부를 check.\n",
    "\n",
    "        match 에는 match 결과가 저장되고 match.group() method 를 통해 matching text 를 가져온다."
   ]
  },
  {
   "cell_type": "code",
   "execution_count": 2,
   "metadata": {},
   "outputs": [
    {
     "data": {
      "text/plain": [
       "<re.Match object; span=(11, 19), match='word:cat'>"
      ]
     },
     "execution_count": 2,
     "metadata": {},
     "output_type": "execute_result"
    }
   ],
   "source": [
    "import re\n",
    "\n",
    "str = 'an example word:cat!!'                     # find word:xxx\n",
    "\n",
    "match = re.search(r'word:\\w\\w\\w', str)      # r - raw string : backslash 를 특수문자로 인식하지 않는다.\n",
    "match"
   ]
  },
  {
   "cell_type": "code",
   "execution_count": 3,
   "metadata": {},
   "outputs": [
    {
     "name": "stdout",
     "output_type": "stream",
     "text": [
      "found -  word:cat\n"
     ]
    }
   ],
   "source": [
    "if match:\n",
    "    print('found - ', match.group())\n",
    "else:\n",
    "    print('Not found')"
   ]
  },
  {
   "cell_type": "markdown",
   "metadata": {},
   "source": [
    "## 정규식의 기본 pattern \n",
    "\n",
    "### meta 문자\n",
    "\n",
    "- meta 문자는 특수한 의미를 가지므로 위와 같이 자기 자체로 match 시키지 않는다.   \n",
    "       . ^ $ * + ? { } [ ] \\ | ( )\n",
    "       \n",
    "- special character 는 \\를 앞에 두면 된다. $\\text{ex) \\., \\\\, \\@}$\n",
    "\n",
    "### single character match\n",
    "\n",
    "- a, X, 9 $\\leftarrow$ 영문 대소문자, 숫자는 자기 자체로 match 시킨다.\n",
    "\n",
    "        ex) re.search(r'12g', 'p12g')  --> match='12g'\n",
    "\n",
    "- . (period) 는 아무 문자(any character) 와도 match 가 된다. (단, \\n (new line) 제외)  \n",
    "\n",
    "\n",
    "- \\w 는 word character (a-z, A-Z, 0-9) 와 match 된다. (single character)  \n",
    "\n",
    "- \\W - NOT \\w\n",
    "\n",
    "\n",
    "- \\b 는 word 와 non-word 의 boundary 이다\n",
    "\n",
    "\n",
    "- \\s 는 white space (space, new line, return, tab) 와 match 된다. (single white space)\n",
    "- \\S 는 non-white space \n",
    "\n",
    "\n",
    "- \\d 는 decimal digit (0-9) 와 match 된다.\n",
    "- \\D - NOT \\d\n",
    "\n",
    "### quantifier (나타나는 횟수)\n",
    "\n",
    "- * : 바로 앞 문자가 0 회 이상 나타남  \n",
    "\n",
    "- + : 바로 앞 문자가 1 회 이상 나타남  \n",
    "\n",
    "- ? : 바로 앞 문자가 0 회 혹은 1 회 나타남 (optional)\n",
    "\n",
    "\n",
    "### position\n",
    "\n",
    "\n",
    "- ^ : string 의 처음을 의미, \n",
    "\n",
    "- $ : string 의 끝을 의미한다.\n",
    "\n",
    "- \\[ \\] 내의 ^ 는 NOT 의미, ex) [^A-Z] : A-Z 을 제외한 문자\n",
    "\n",
    "\n",
    "### grouping\n",
    "- ()"
   ]
  },
  {
   "cell_type": "markdown",
   "metadata": {},
   "source": [
    "## 사용 method\n",
    "\n",
    "- re.compile(pattern) :\t패턴 문자열 pattern을 패턴 객체로 컴파일한다\n",
    "\n",
    "\n",
    "- re.search(pattern, string) :\tstring에서 pattern과 매치하는 텍스트를 탐색한다 (처음 한개 매치)\n",
    "\n",
    "\n",
    "- re.sub(pattern, repl, string) : string에서 pattern과 매치하는 텍스트를 repl로 치환한다"
   ]
  },
  {
   "cell_type": "code",
   "execution_count": 4,
   "metadata": {},
   "outputs": [
    {
     "name": "stdout",
     "output_type": "stream",
     "text": [
      "032\n",
      "232-3245\n",
      "032-232-3245\n"
     ]
    }
   ],
   "source": [
    "import re\n",
    " \n",
    "text = \"문의사항이 있으면 032-232-3245 으로 연락주시기 바랍니다.\"\n",
    " \n",
    "regex = re.compile(r'(\\d{3})-(\\d{3}-\\d{4})')\n",
    "matchobj = regex.search(text)\n",
    "\n",
    "# same as above\n",
    "#matchobj = re.search(r'(\\d{3})-(\\d{3}-\\d{4})', text)\n",
    "\n",
    "areaCode = matchobj.group(1)\n",
    "num = matchobj.group(2)\n",
    "\n",
    "fullNum = matchobj.group()\n",
    "\n",
    "print(areaCode)\n",
    "print(num)\n",
    "print(fullNum)"
   ]
  },
  {
   "cell_type": "markdown",
   "metadata": {},
   "source": [
    "### search\n",
    "- 첫번째 match 되는 string 검색"
   ]
  },
  {
   "cell_type": "code",
   "execution_count": 5,
   "metadata": {},
   "outputs": [
    {
     "data": {
      "text/plain": [
       "<re.Match object; span=(1, 4), match='12g'>"
      ]
     },
     "execution_count": 5,
     "metadata": {},
     "output_type": "execute_result"
    }
   ],
   "source": [
    "re.search(r'12g', 'p12gabc12g')"
   ]
  },
  {
   "cell_type": "code",
   "execution_count": 6,
   "metadata": {},
   "outputs": [
    {
     "data": {
      "text/plain": [
       "'iii'"
      ]
     },
     "execution_count": 6,
     "metadata": {},
     "output_type": "execute_result"
    }
   ],
   "source": [
    "match = re.search(r'iii', 'piiig')\n",
    "\n",
    "match.group()"
   ]
  },
  {
   "cell_type": "code",
   "execution_count": 7,
   "metadata": {},
   "outputs": [
    {
     "data": {
      "text/plain": [
       "NoneType"
      ]
     },
     "execution_count": 7,
     "metadata": {},
     "output_type": "execute_result"
    }
   ],
   "source": [
    "match = re.search(r'igs', 'piiig')\n",
    "\n",
    "type(match)"
   ]
  },
  {
   "cell_type": "code",
   "execution_count": 8,
   "metadata": {},
   "outputs": [
    {
     "data": {
      "text/plain": [
       "'iig'"
      ]
     },
     "execution_count": 8,
     "metadata": {},
     "output_type": "execute_result"
    }
   ],
   "source": [
    "match = re.search(r'..g', 'piiig')\n",
    "\n",
    "match.group()"
   ]
  },
  {
   "cell_type": "code",
   "execution_count": 9,
   "metadata": {},
   "outputs": [
    {
     "data": {
      "text/plain": [
       "'123'"
      ]
     },
     "execution_count": 9,
     "metadata": {},
     "output_type": "execute_result"
    }
   ],
   "source": [
    "match = re.search(r'\\d\\d\\d', 'p123g')\n",
    "\n",
    "match.group()"
   ]
  },
  {
   "cell_type": "code",
   "execution_count": 10,
   "metadata": {},
   "outputs": [
    {
     "data": {
      "text/plain": [
       "'abc'"
      ]
     },
     "execution_count": 10,
     "metadata": {},
     "output_type": "execute_result"
    }
   ],
   "source": [
    "match = re.search(r'\\w\\w\\w', '@@abcd!!')        #영수자 연속 3 개\n",
    "match.group()"
   ]
  },
  {
   "cell_type": "code",
   "execution_count": 11,
   "metadata": {},
   "outputs": [
    {
     "ename": "AttributeError",
     "evalue": "'NoneType' object has no attribute 'group'",
     "output_type": "error",
     "traceback": [
      "\u001b[1;31m---------------------------------------------------------------------------\u001b[0m",
      "\u001b[1;31mAttributeError\u001b[0m                            Traceback (most recent call last)",
      "\u001b[1;32m<ipython-input-11-c1013d7e131a>\u001b[0m in \u001b[0;36m<module>\u001b[1;34m\u001b[0m\n\u001b[0;32m      1\u001b[0m \u001b[0mmatch\u001b[0m \u001b[1;33m=\u001b[0m \u001b[0mre\u001b[0m\u001b[1;33m.\u001b[0m\u001b[0msearch\u001b[0m\u001b[1;33m(\u001b[0m\u001b[1;34mr'^bo'\u001b[0m\u001b[1;33m,\u001b[0m \u001b[1;34m'rebok'\u001b[0m\u001b[1;33m)\u001b[0m\u001b[1;33m\u001b[0m\u001b[1;33m\u001b[0m\u001b[0m\n\u001b[1;32m----> 2\u001b[1;33m \u001b[0mmatch\u001b[0m\u001b[1;33m.\u001b[0m\u001b[0mgroup\u001b[0m\u001b[1;33m(\u001b[0m\u001b[1;33m)\u001b[0m\u001b[1;33m\u001b[0m\u001b[1;33m\u001b[0m\u001b[0m\n\u001b[0m",
      "\u001b[1;31mAttributeError\u001b[0m: 'NoneType' object has no attribute 'group'"
     ]
    }
   ],
   "source": [
    "match = re.search(r'^bo', 'rebok')\n",
    "match.group()"
   ]
  },
  {
   "cell_type": "code",
   "execution_count": 12,
   "metadata": {},
   "outputs": [
    {
     "data": {
      "text/plain": [
       "'k'"
      ]
     },
     "execution_count": 12,
     "metadata": {},
     "output_type": "execute_result"
    }
   ],
   "source": [
    "match = re.search(r'k$', 'book')\n",
    "\n",
    "match.group()"
   ]
  },
  {
   "cell_type": "markdown",
   "metadata": {},
   "source": [
    "### match 되는 pattern 의 반복 (Repetition)\n",
    "\n",
    "- \\+ $\\rightarrow$ 1개 혹은 그 이상의 해당 pattern 이 왼쪽에 있음\n",
    "\n",
    "\n",
    "- \\* $\\rightarrow$ 0 혹은 그 이상의 해당 pattern 이 왼쪽에 있음\n",
    "\n",
    "\n",
    "- \\? $\\rightarrow$ 0 혹은 1 개의 해당 pattern 이 왼쪽에 있음\n",
    "\n",
    "### Leftmost and Largest 규칙\n",
    "\n",
    "search 는 가장 왼쪽 (leftmost) match 를 먼저 찾고 repetition 메타문자 (\\., \\*, \\+)를 만족하는 한 match 를 계속 찾는다."
   ]
  },
  {
   "cell_type": "code",
   "execution_count": 13,
   "metadata": {},
   "outputs": [
    {
     "data": {
      "text/plain": [
       "'p'"
      ]
     },
     "execution_count": 13,
     "metadata": {},
     "output_type": "execute_result"
    }
   ],
   "source": [
    "import re\n",
    "\n",
    "match = re.search(r'pi*', 'pg')    \n",
    "\n",
    "match.group()"
   ]
  },
  {
   "cell_type": "code",
   "execution_count": 13,
   "metadata": {},
   "outputs": [
    {
     "data": {
      "text/plain": [
       "'ii'"
      ]
     },
     "execution_count": 13,
     "metadata": {},
     "output_type": "execute_result"
    }
   ],
   "source": [
    "match = re.search(r'i+', 'piigiiig')\n",
    "\n",
    "match.group()"
   ]
  },
  {
   "cell_type": "code",
   "execution_count": 19,
   "metadata": {},
   "outputs": [
    {
     "ename": "AttributeError",
     "evalue": "'NoneType' object has no attribute 'group'",
     "output_type": "error",
     "traceback": [
      "\u001b[1;31m---------------------------------------------------------------------------\u001b[0m",
      "\u001b[1;31mAttributeError\u001b[0m                            Traceback (most recent call last)",
      "\u001b[1;32m<ipython-input-19-ad0183a9d6ba>\u001b[0m in \u001b[0;36m<module>\u001b[1;34m\u001b[0m\n\u001b[0;32m      1\u001b[0m \u001b[0mmatch\u001b[0m \u001b[1;33m=\u001b[0m \u001b[0mre\u001b[0m\u001b[1;33m.\u001b[0m\u001b[0msearch\u001b[0m\u001b[1;33m(\u001b[0m\u001b[1;34mr'\\d\\s*\\d\\\\s*d'\u001b[0m\u001b[1;33m,\u001b[0m \u001b[1;34m'xx1 2    3xx'\u001b[0m\u001b[1;33m)\u001b[0m   \u001b[1;31m#숫자1 + white space 0 개 이상 + 숫자1 + white space 0개 이상 + 숫자1\u001b[0m\u001b[1;33m\u001b[0m\u001b[1;33m\u001b[0m\u001b[0m\n\u001b[0;32m      2\u001b[0m \u001b[1;33m\u001b[0m\u001b[0m\n\u001b[1;32m----> 3\u001b[1;33m \u001b[0mmatch\u001b[0m\u001b[1;33m.\u001b[0m\u001b[0mgroup\u001b[0m\u001b[1;33m(\u001b[0m\u001b[1;33m)\u001b[0m\u001b[1;33m\u001b[0m\u001b[1;33m\u001b[0m\u001b[0m\n\u001b[0m",
      "\u001b[1;31mAttributeError\u001b[0m: 'NoneType' object has no attribute 'group'"
     ]
    }
   ],
   "source": [
    "match = re.search(r'\\d\\s*\\d\\\\s*d', 'xx1 2    3xx')   #숫자1 + white space 0 개 이상 + 숫자1 + white space 0개 이상 + 숫자1\n",
    "\n",
    "match.group()"
   ]
  },
  {
   "cell_type": "code",
   "execution_count": 20,
   "metadata": {},
   "outputs": [
    {
     "data": {
      "text/plain": [
       "'12   3'"
      ]
     },
     "execution_count": 20,
     "metadata": {},
     "output_type": "execute_result"
    }
   ],
   "source": [
    "match = re.search(r'\\d\\s*\\d\\s*\\d', 'xx12   3xx')    # 위와 동일 pattern\n",
    "match.group()"
   ]
  },
  {
   "cell_type": "code",
   "execution_count": 21,
   "metadata": {},
   "outputs": [
    {
     "data": {
      "text/plain": [
       "'123'"
      ]
     },
     "execution_count": 21,
     "metadata": {},
     "output_type": "execute_result"
    }
   ],
   "source": [
    "match = re.search(r'\\d\\s*\\d\\s*\\d', 'xx123xx')     # 위와 동일 pattern\n",
    "match.group()"
   ]
  },
  {
   "cell_type": "code",
   "execution_count": 22,
   "metadata": {},
   "outputs": [
    {
     "data": {
      "text/plain": [
       "NoneType"
      ]
     },
     "execution_count": 22,
     "metadata": {},
     "output_type": "execute_result"
    }
   ],
   "source": [
    "match = re.search(r'^b\\w+', 'foobar')\n",
    "type(match)"
   ]
  },
  {
   "cell_type": "code",
   "execution_count": 23,
   "metadata": {},
   "outputs": [
    {
     "data": {
      "text/plain": [
       "'ba'"
      ]
     },
     "execution_count": 23,
     "metadata": {},
     "output_type": "execute_result"
    }
   ],
   "source": [
    "match = re.search(r'b\\w', 'foobar')\n",
    "\n",
    "match.group()"
   ]
  },
  {
   "cell_type": "markdown",
   "metadata": {},
   "source": [
    "### 대괄호 ([  ])\n",
    "\n",
    "character set 을 표시한다. 예를 들어 [abc] 는 a, b, c 와 match 된다. 단, [ ] 내의 \\. 는 메타문자가 아니라 실제 \\. 표시이다. "
   ]
  },
  {
   "cell_type": "code",
   "execution_count": 24,
   "metadata": {},
   "outputs": [
    {
     "data": {
      "text/plain": [
       "'young-jea.oh@citi.com'"
      ]
     },
     "execution_count": 24,
     "metadata": {},
     "output_type": "execute_result"
    }
   ],
   "source": [
    "str = 'Please send me email to young-jea.oh@citi.com with your return address'\n",
    "match = re.search(r'[\\w.-]+@[\\w.-]+', str)       #영수자로 시작하는 any 문자열 (-포함)\n",
    "\n",
    "match.group()"
   ]
  },
  {
   "cell_type": "markdown",
   "metadata": {},
   "source": [
    "### Group 구분\n",
    "\n",
    "matching text 를 여러 부분으로 구분할 때 사용"
   ]
  },
  {
   "cell_type": "code",
   "execution_count": 25,
   "metadata": {},
   "outputs": [],
   "source": [
    "match = re.search(r'([\\w.-]+)@([\\w.-]+)', str)"
   ]
  },
  {
   "cell_type": "code",
   "execution_count": 26,
   "metadata": {},
   "outputs": [
    {
     "name": "stdout",
     "output_type": "stream",
     "text": [
      "young-jea.oh@citi.com\n",
      "young-jea.oh\n",
      "citi.com\n"
     ]
    }
   ],
   "source": [
    "print(match.group())\n",
    "print(match.group(1))\n",
    "print(match.group(2))"
   ]
  },
  {
   "cell_type": "markdown",
   "metadata": {},
   "source": [
    "### findall\n",
    "re.search() 는 첫번째 match 하나만 return\n",
    "\n",
    "re.findall() 은 string 에서 match 되는 것 전부 list 로 return"
   ]
  },
  {
   "cell_type": "code",
   "execution_count": 27,
   "metadata": {},
   "outputs": [
    {
     "data": {
      "text/plain": [
       "['12g', '12g']"
      ]
     },
     "execution_count": 27,
     "metadata": {},
     "output_type": "execute_result"
    }
   ],
   "source": [
    "re.findall(r'12g', 'p12gabc12g')"
   ]
  },
  {
   "cell_type": "code",
   "execution_count": 28,
   "metadata": {},
   "outputs": [
    {
     "data": {
      "text/plain": [
       "['12g', '12g']"
      ]
     },
     "execution_count": 28,
     "metadata": {},
     "output_type": "execute_result"
    }
   ],
   "source": [
    "regex = re.compile(r'\\d\\d\\w')\n",
    "\n",
    "regex.findall('p12gabc12g')"
   ]
  },
  {
   "cell_type": "code",
   "execution_count": 29,
   "metadata": {},
   "outputs": [
    {
     "data": {
      "text/plain": [
       "['12g', '12g']"
      ]
     },
     "execution_count": 29,
     "metadata": {},
     "output_type": "execute_result"
    }
   ],
   "source": [
    "re.findall(r'\\d\\d\\w', 'p12gabc12g')"
   ]
  },
  {
   "cell_type": "code",
   "execution_count": 30,
   "metadata": {},
   "outputs": [],
   "source": [
    "str = '메인 이멜 주소는 young-jea.oh@citi.com 이고 보조 이멜 주소는 yjohhhhh@naver.com 입니다. 문의는 faq@gmail.net 으로 보내세요.'"
   ]
  },
  {
   "cell_type": "code",
   "execution_count": 31,
   "metadata": {},
   "outputs": [
    {
     "data": {
      "text/plain": [
       "['young-jea.oh@citi.com', 'yjohhhhh@naver.com', 'faq@gmail.net']"
      ]
     },
     "execution_count": 31,
     "metadata": {},
     "output_type": "execute_result"
    }
   ],
   "source": [
    "match = re.findall(r'[\\w.-]+@[\\w.-]+', str)\n",
    "\n",
    "match"
   ]
  },
  {
   "cell_type": "code",
   "execution_count": 32,
   "metadata": {},
   "outputs": [
    {
     "data": {
      "text/plain": [
       "[('young-jea.oh', 'citi.com'), ('yjohhhhh', 'naver.com'), ('faq', 'gmail.net')]"
      ]
     },
     "execution_count": 32,
     "metadata": {},
     "output_type": "execute_result"
    }
   ],
   "source": [
    "match = re.findall(r'([\\w.-]+)@([\\w.-]+)', str)\n",
    "\n",
    "match"
   ]
  },
  {
   "cell_type": "code",
   "execution_count": 33,
   "metadata": {},
   "outputs": [
    {
     "name": "stdout",
     "output_type": "stream",
     "text": [
      "young-jea.oh\n",
      "citi.com\n"
     ]
    }
   ],
   "source": [
    "match = re.search(r'([\\w.-]+)@([\\w.-]+)', str)\n",
    "\n",
    "print(match.group(1))\n",
    "print(match.group(2))"
   ]
  },
  {
   "cell_type": "code",
   "execution_count": 34,
   "metadata": {},
   "outputs": [
    {
     "data": {
      "text/plain": [
       "['한글', '의', '범위는', '가', '힣까지', '입니다']"
      ]
     },
     "execution_count": 34,
     "metadata": {},
     "output_type": "execute_result"
    }
   ],
   "source": [
    "match = re.findall(r'[가-힣]+', \"한글 regex 의 범위는 가-힣까지 입니다.\")\n",
    "match"
   ]
  },
  {
   "cell_type": "markdown",
   "metadata": {},
   "source": [
    "### text cleansing\n",
    "\n",
    "https://en.wikipedia.org/wiki/Alice%27s_Adventures_in_Wonderland\n",
    "\n",
    "- [2], [3] 등 특수문자와 결합된 숫자 제거\n",
    "- 영수자만 남기고 모두 제거"
   ]
  },
  {
   "cell_type": "code",
   "execution_count": 35,
   "metadata": {},
   "outputs": [
    {
     "data": {
      "text/plain": [
       "\"Alice's Adventures in Wonderland (commonly shortened to Alice in Wonderland) is an 1865 novel written by English author Charles Lutwidge Dodgson under the pseudonym Lewis Carroll.[1] It tells of a young girl named Alice falling through a rabbit hole into a fantasy world populated by peculiar, anthropomorphic creatures. The tale plays with logic, giving the story lasting popularity with adults as well as with children.[2] It is considered to be one of the best examples of the literary nonsense genre.[2][3] Its narrative course, structure, characters, and imagery have been enormously influential[3] in both popular culture and literature, especially in the fantasy genre.\""
      ]
     },
     "execution_count": 35,
     "metadata": {},
     "output_type": "execute_result"
    }
   ],
   "source": [
    "text = \"Alice's Adventures in Wonderland (commonly shortened to Alice in Wonderland) is an 1865 novel written by English author Charles Lutwidge Dodgson under the pseudonym Lewis Carroll.[1] It tells of a young girl named Alice falling through a rabbit hole into a fantasy world populated by peculiar, anthropomorphic creatures. The tale plays with logic, giving the story lasting popularity with adults as well as with children.[2] It is considered to be one of the best examples of the literary nonsense genre.[2][3] Its narrative course, structure, characters, and imagery have been enormously influential[3] in both popular culture and literature, especially in the fantasy genre.\"\n",
    "text"
   ]
  },
  {
   "cell_type": "code",
   "execution_count": 36,
   "metadata": {},
   "outputs": [
    {
     "data": {
      "text/plain": [
       "\"Alice's Adventures in Wonderland (commonly shortened to Alice in Wonderland) is an 1865 novel written by English author Charles Lutwidge Dodgson under the pseudonym Lewis Carroll. It tells of a young girl named Alice falling through a rabbit hole into a fantasy world populated by peculiar, anthropomorphic creatures. The tale plays with logic, giving the story lasting popularity with adults as well as with children. It is considered to be one of the best examples of the literary nonsense genre. Its narrative course, structure, characters, and imagery have been enormously influential in both popular culture and literature, especially in the fantasy genre.\""
      ]
     },
     "execution_count": 36,
     "metadata": {},
     "output_type": "execute_result"
    }
   ],
   "source": [
    "text1 = re.sub(r'\\[\\d\\]', '', text)\n",
    "text1"
   ]
  },
  {
   "cell_type": "code",
   "execution_count": 31,
   "metadata": {},
   "outputs": [
    {
     "data": {
      "text/plain": [
       "'Alices Adventures in Wonderland commonly shortened to Alice in Wonderland is an 1865 novel written by English author Charles Lutwidge Dodgson under the pseudonym Lewis Carroll It tells of a young girl named Alice falling through a rabbit hole into a fantasy world populated by peculiar anthropomorphic creatures The tale plays with logic giving the story lasting popularity with adults as well as with children It is considered to be one of the best examples of the literary nonsense genre Its narrative course structure characters and imagery have been enormously influential in both popular culture and literature especially in the fantasy genre'"
      ]
     },
     "execution_count": 31,
     "metadata": {},
     "output_type": "execute_result"
    }
   ],
   "source": [
    "text2 = re.sub(r'[^A-Za-z0-9 ]', '', text1)\n",
    "text2"
   ]
  },
  {
   "cell_type": "markdown",
   "metadata": {},
   "source": [
    "### 연습문제"
   ]
  },
  {
   "cell_type": "raw",
   "metadata": {},
   "source": [
    "### HTML 에서 BABY 이름 찾기 (https://developers.google.com/edu/python/exercises/baby-names)\n",
    "\n",
    "- baby1998.html 에서 <tr align=\"right\"><td>1</td><td>Michael</td><td>Jessica</td> 에\n",
    "match 되는 정규표현식을 이용하여 (rank, boy-name, girl-name) tuples 추출하여 print\n",
    "\n",
    "```\n",
    "import sys\n",
    "import re\n",
    "\n",
    "def extract_name(filename):\n",
    "    names = []\n",
    "    f = open(filename, 'r')\n",
    "    text = f.read()\n",
    "    groups = re.findall(r'<td> #YOUR CODE HERE# </td>', text)\n",
    "    for tup in groups:\n",
    "        print(tup[0], tup[1], tup[2])\n",
    "\n",
    "if __name__ == '__main__':\n",
    "    args = sys.argv[1:]\n",
    "    if not args:\n",
    "        print(\"file 명을 parameter 로 입력 바랍니다.\")\n",
    "        sys.exit(1)\n",
    "\n",
    "    filename = './babynames/' + args[0]\n",
    "    extract_name(filename)\n",
    "```"
   ]
  }
 ],
 "metadata": {
  "kernelspec": {
   "display_name": "Python 3",
   "language": "python",
   "name": "python3"
  },
  "language_info": {
   "codemirror_mode": {
    "name": "ipython",
    "version": 3
   },
   "file_extension": ".py",
   "mimetype": "text/x-python",
   "name": "python",
   "nbconvert_exporter": "python",
   "pygments_lexer": "ipython3",
   "version": "3.7.6"
  }
 },
 "nbformat": 4,
 "nbformat_minor": 2
}
