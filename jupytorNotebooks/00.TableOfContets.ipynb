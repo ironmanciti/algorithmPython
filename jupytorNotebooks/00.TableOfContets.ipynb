{
 "cells": [
  {
   "cell_type": "markdown",
   "metadata": {},
   "source": [
    "<h1><center>알고리즘으로 배우는 Python</center></h1>"
   ]
  },
  {
   "cell_type": "markdown",
   "metadata": {},
   "source": [
    "\n",
    "## 목차\n",
    "\n",
    "### 1. Hello Python (print, help, comment) \n",
    "\n",
    "### 2. 사칙연산\n",
    "\n",
    "### 3. Python 의 기본 Data Type\n",
    "\n",
    "### 4. Python 의 변수 (Variables)\n",
    "\n",
    "### 5. 함수 (Function)\n",
    "\n",
    "### 6. List 와 Tuple\n",
    "\n",
    "### 7. for-loop 반복문\n",
    "\n",
    "### 8. range() 함수\n",
    "\n",
    "### 9. Dictionary 자료형\n",
    "\n",
    "### 10. String\n",
    "\n",
    "### 11. String 의 여러가지 사용 방법\n",
    "\n",
    "### 12. 조건문\n",
    "\n",
    "### 13. Module\n",
    "\n",
    "### 14. Class\n",
    "\n",
    "### 15. 집합 (set)\n",
    "\n",
    "### 16. while 문\n",
    "\n",
    "### 17. File 입출력\n",
    "\n",
    "### 18. 정규식 (Regular Expression)\n",
    "\n",
    "### 19. Functional Programming\n",
    "\n",
    "### 20. List Comprehension\n",
    "\n",
    "### 21. 이진탐색 (Binary Search) 알고리즘\n",
    "\n",
    "### 22. Big-O 표기법\n",
    "\n",
    "### 23. Memoization 과 Dynamic Programming\n",
    "\n",
    "### 24. 정렬 (Sort)\n",
    "\n",
    "### 25. Python 을 이용한 zipfile handling\n",
    "\n",
    "### 26. Graph Data Structure\n",
    "\n",
    "### 27. 자주 사용하는 Python Library 소개\n",
    " \n",
    "- sys  \n",
    "- pickle  \n",
    "- OS  \n",
    "- time  \n",
    "- random  \n",
    "- numpy  \n",
    "- scipy  \n",
    "- pandas  \n",
    "- matplotlib "
   ]
  }
 ],
 "metadata": {
  "kernelspec": {
   "display_name": "Python 3",
   "language": "python",
   "name": "python3"
  },
  "language_info": {
   "codemirror_mode": {
    "name": "ipython",
    "version": 3
   },
   "file_extension": ".py",
   "mimetype": "text/x-python",
   "name": "python",
   "nbconvert_exporter": "python",
   "pygments_lexer": "ipython3",
   "version": "3.7.6"
  }
 },
 "nbformat": 4,
 "nbformat_minor": 2
}
