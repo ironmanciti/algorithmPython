{
 "cells": [
  {
   "cell_type": "markdown",
   "metadata": {},
   "source": [
    "# 29. Python 으로 Database 와 SQL 사용하기\n",
    "\n",
    "- emailbox-short.txt FILE 을 이용하여 sqlite db 생성  \n",
    "\n",
    "\n",
    "- basic CRUD (Create, Retrieve, Update, Delete) operation 을 Python 과 SQL 을 이용하여 수행"
   ]
  },
  {
   "cell_type": "code",
   "execution_count": 4,
   "metadata": {},
   "outputs": [],
   "source": [
    "import sqlite3"
   ]
  },
  {
   "cell_type": "markdown",
   "metadata": {},
   "source": [
    "### db 연결 및 cursor 생성"
   ]
  },
  {
   "cell_type": "code",
   "execution_count": 6,
   "metadata": {},
   "outputs": [],
   "source": [
    "con = sqlite3.connect('emaildb.sqlite')\n",
    "cur = con.cursor()"
   ]
  },
  {
   "cell_type": "markdown",
   "metadata": {},
   "source": [
    "### Table 생성"
   ]
  },
  {
   "cell_type": "code",
   "execution_count": 8,
   "metadata": {},
   "outputs": [
    {
     "data": {
      "text/plain": [
       "<sqlite3.Cursor at 0x2b612800ea0>"
      ]
     },
     "execution_count": 8,
     "metadata": {},
     "output_type": "execute_result"
    }
   ],
   "source": [
    "cur.execute(\"DROP TABLE IF EXISTS Counts\")\n",
    "\n",
    "cur.execute(\"CREATE TABLE Counts (email TEXT, count INTEGER)\")"
   ]
  },
  {
   "cell_type": "markdown",
   "metadata": {},
   "source": [
    "- `From: ` 으로 시작하는 record 에서 email id 를 추출하여 db 에 건수 누적 \n",
    "\n",
    "- SQL 문에서 ? 는 placeholder 이고 여러개가 올 수 있으므로 tuple 로 mapping 시킨다"
   ]
  },
  {
   "cell_type": "code",
   "execution_count": 15,
   "metadata": {},
   "outputs": [],
   "source": [
    "fname = 'emailbox-short.txt'\n",
    "fh = open(fname)\n",
    "\n",
    "for line in fh:\n",
    "    if not line.startswith('From: '):\n",
    "        continue\n",
    "    pieces = line.split()\n",
    "    email = pieces[1]\n",
    "    cur.execute('SELECT count FROM Counts WHERE email = ?', (email,))\n",
    "    row = cur.fetchone()\n",
    "    if row is None:\n",
    "        cur.execute('INSERT INTO Counts (email, count) VALUES (?, 1)', (email,))\n",
    "    else:\n",
    "        cur.execute('UPDATE Counts SET count = count + 1 WHERE email = ?', (email,))\n",
    "        \n",
    "    con.commit()"
   ]
  },
  {
   "cell_type": "markdown",
   "metadata": {},
   "source": [
    "### 입력된 data 확인"
   ]
  },
  {
   "cell_type": "code",
   "execution_count": 18,
   "metadata": {},
   "outputs": [
    {
     "name": "stdout",
     "output_type": "stream",
     "text": [
      "cwen@iupui.edu 5\n",
      "zqian@umich.edu 4\n",
      "david.horwitz@uct.ac.za 4\n",
      "stephen.marquard@uct.ac.za 3\n",
      "louis@media.berkeley.edu 3\n",
      "gsilver@umich.edu 3\n",
      "rjlowe@iupui.edu 2\n",
      "wagnermr@iupui.edu 1\n",
      "antranig@caret.cam.ac.uk 1\n",
      "gopal.ramasammycook@gmail.com 1\n"
     ]
    }
   ],
   "source": [
    "sqlstr = 'SELECT email, count FROM Counts ORDER BY count DESC LIMIT 10'\n",
    "\n",
    "for row in cur.execute(sqlstr):\n",
    "    print(row[0], row[1])"
   ]
  }
 ],
 "metadata": {
  "kernelspec": {
   "display_name": "Python 3",
   "language": "python",
   "name": "python3"
  },
  "language_info": {
   "codemirror_mode": {
    "name": "ipython",
    "version": 3
   },
   "file_extension": ".py",
   "mimetype": "text/x-python",
   "name": "python",
   "nbconvert_exporter": "python",
   "pygments_lexer": "ipython3",
   "version": "3.7.3"
  }
 },
 "nbformat": 4,
 "nbformat_minor": 4
}
