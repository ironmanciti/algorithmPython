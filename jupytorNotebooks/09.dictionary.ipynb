{
 "cells": [
  {
   "cell_type": "markdown",
   "metadata": {},
   "source": [
    "# 9. 딕셔너리 (Dictionary) 자료형\n",
    "\n",
    "#### dictionary 는 key-value 쌍으로 이루어진 data type 이다.\n",
    "\n",
    "#### dictionary 는 { } 내에 key: value 로 표시한다.\n",
    "\n",
    "#### list, tuple 의 elemtent 들은 indexing 에 의해 접근하지만 , dictionary 는 key 값으로 접근한다.\n",
    "\n",
    "    dictionary = {key: value, key: value...}\n",
    "    \n",
    "<img src=\"./images/dict1.png\" width=\"500\">"
   ]
  },
  {
   "cell_type": "markdown",
   "metadata": {},
   "source": [
    "## 9.1 Dictionary basics"
   ]
  },
  {
   "cell_type": "markdown",
   "metadata": {},
   "source": [
    "### dictionary 생성"
   ]
  },
  {
   "cell_type": "code",
   "execution_count": 1,
   "metadata": {},
   "outputs": [],
   "source": [
    "dict = {'a': 1, 'b': 2, 'c': 3}"
   ]
  },
  {
   "cell_type": "code",
   "execution_count": 2,
   "metadata": {},
   "outputs": [
    {
     "data": {
      "text/plain": [
       "dict"
      ]
     },
     "execution_count": 2,
     "metadata": {},
     "output_type": "execute_result"
    }
   ],
   "source": [
    "type(dict)"
   ]
  },
  {
   "cell_type": "markdown",
   "metadata": {},
   "source": [
    "### dictionary 값(value) 접근"
   ]
  },
  {
   "cell_type": "code",
   "execution_count": 3,
   "metadata": {},
   "outputs": [
    {
     "data": {
      "text/plain": [
       "5"
      ]
     },
     "execution_count": 3,
     "metadata": {},
     "output_type": "execute_result"
    }
   ],
   "source": [
    "dict['b'] + dict['c']"
   ]
  },
  {
   "cell_type": "code",
   "execution_count": 4,
   "metadata": {},
   "outputs": [
    {
     "name": "stdout",
     "output_type": "stream",
     "text": [
      "My name is Kim and I live in Seoul.\n"
     ]
    }
   ],
   "source": [
    "my_info = {'name': 'Kim', 'age': 25, 'height': 175, 'home': 'Seoul'}\n",
    "\n",
    "if my_info['age'] < 30 and my_info['height'] > 170:\n",
    "    print(\"My name is \" + my_info['name'] + ' and I live in ' + my_info['home'] + '.')"
   ]
  },
  {
   "cell_type": "markdown",
   "metadata": {},
   "source": [
    "### Dictionary 값 update"
   ]
  },
  {
   "cell_type": "code",
   "execution_count": 5,
   "metadata": {},
   "outputs": [],
   "source": [
    "my_info['name'] = 'Jane'\n",
    "my_info['home'] = 'New York'"
   ]
  },
  {
   "cell_type": "code",
   "execution_count": 6,
   "metadata": {},
   "outputs": [
    {
     "name": "stdout",
     "output_type": "stream",
     "text": [
      "My name is Jane and I live in New York.\n"
     ]
    }
   ],
   "source": [
    "if my_info['age'] < 30 and my_info['height'] > 170:\n",
    "    print(\"My name is \" + my_info['name'] + ' and I live in ' + my_info['home'] + '.')"
   ]
  },
  {
   "cell_type": "markdown",
   "metadata": {},
   "source": [
    "### dictionary 와 for-loop"
   ]
  },
  {
   "cell_type": "code",
   "execution_count": 7,
   "metadata": {},
   "outputs": [
    {
     "name": "stdout",
     "output_type": "stream",
     "text": [
      "name\n",
      "age\n",
      "height\n",
      "home\n"
     ]
    }
   ],
   "source": [
    "for info in my_info:\n",
    "    print(info)"
   ]
  },
  {
   "cell_type": "code",
   "execution_count": 8,
   "metadata": {},
   "outputs": [
    {
     "name": "stdout",
     "output_type": "stream",
     "text": [
      "name\n",
      "age\n",
      "height\n",
      "home\n"
     ]
    }
   ],
   "source": [
    "for key in my_info.keys():\n",
    "    print(key)"
   ]
  },
  {
   "cell_type": "code",
   "execution_count": 9,
   "metadata": {},
   "outputs": [
    {
     "name": "stdout",
     "output_type": "stream",
     "text": [
      "Jane\n",
      "25\n",
      "175\n",
      "New York\n"
     ]
    }
   ],
   "source": [
    "for value in my_info.values():\n",
    "    print(value)"
   ]
  },
  {
   "cell_type": "code",
   "execution_count": 10,
   "metadata": {},
   "outputs": [
    {
     "name": "stdout",
     "output_type": "stream",
     "text": [
      "name Jane\n",
      "age 25\n",
      "height 175\n",
      "home New York\n"
     ]
    }
   ],
   "source": [
    "for key, value in my_info.items():\n",
    "    print(key, value)"
   ]
  },
  {
   "cell_type": "code",
   "execution_count": 11,
   "metadata": {},
   "outputs": [
    {
     "name": "stdout",
     "output_type": "stream",
     "text": [
      "Jane\n",
      "25\n",
      "175\n",
      "New York\n"
     ]
    }
   ],
   "source": [
    "for key in my_info.keys():\n",
    "    print(my_info[key])"
   ]
  },
  {
   "cell_type": "code",
   "execution_count": 12,
   "metadata": {},
   "outputs": [
    {
     "name": "stdout",
     "output_type": "stream",
     "text": [
      "name Jane\n",
      "age 25\n",
      "height 175\n",
      "home New York\n"
     ]
    }
   ],
   "source": [
    "for key in my_info.keys():\n",
    "    print(key, my_info[key])"
   ]
  },
  {
   "cell_type": "code",
   "execution_count": 13,
   "metadata": {},
   "outputs": [
    {
     "name": "stdout",
     "output_type": "stream",
     "text": [
      "name \t Jane\n",
      "age \t 25\n",
      "height \t 175\n",
      "home \t New York\n"
     ]
    }
   ],
   "source": [
    "for key, value in my_info.items():\n",
    "    print(key, '\\t', value)"
   ]
  },
  {
   "cell_type": "markdown",
   "metadata": {},
   "source": [
    "### dictionary 정렬"
   ]
  },
  {
   "cell_type": "code",
   "execution_count": 14,
   "metadata": {},
   "outputs": [
    {
     "data": {
      "text/plain": [
       "['a', 'b', 'c']"
      ]
     },
     "execution_count": 14,
     "metadata": {},
     "output_type": "execute_result"
    }
   ],
   "source": [
    "dict = {'c': 1, 'a': 2, 'b': 3}\n",
    "sorted(dict)"
   ]
  },
  {
   "cell_type": "code",
   "execution_count": 15,
   "metadata": {},
   "outputs": [
    {
     "name": "stdout",
     "output_type": "stream",
     "text": [
      "c \t 1\n",
      "a \t 2\n",
      "b \t 3\n"
     ]
    }
   ],
   "source": [
    "for key, value in dict.items():\n",
    "    print(key, '\\t', value)"
   ]
  },
  {
   "cell_type": "code",
   "execution_count": 16,
   "metadata": {},
   "outputs": [
    {
     "name": "stdout",
     "output_type": "stream",
     "text": [
      "a \t 2\n",
      "b \t 3\n",
      "c \t 1\n"
     ]
    }
   ],
   "source": [
    "for key in sorted(dict):\n",
    "    print(key, '\\t', dict[key])"
   ]
  },
  {
   "cell_type": "markdown",
   "metadata": {},
   "source": [
    "### dictionary 에 key 존재 유무 check"
   ]
  },
  {
   "cell_type": "code",
   "execution_count": 17,
   "metadata": {},
   "outputs": [
    {
     "data": {
      "text/plain": [
       "True"
      ]
     },
     "execution_count": 17,
     "metadata": {},
     "output_type": "execute_result"
    }
   ],
   "source": [
    "dict = {'a': 1, 'b': 2, 'c': 3}\n",
    "'a' in dict"
   ]
  },
  {
   "cell_type": "code",
   "execution_count": 18,
   "metadata": {},
   "outputs": [
    {
     "data": {
      "text/plain": [
       "False"
      ]
     },
     "execution_count": 18,
     "metadata": {},
     "output_type": "execute_result"
    }
   ],
   "source": [
    "'d' in dict"
   ]
  },
  {
   "cell_type": "markdown",
   "metadata": {},
   "source": [
    "### dictionary 를 이용한 list 의 중복 element count"
   ]
  },
  {
   "cell_type": "code",
   "execution_count": 19,
   "metadata": {},
   "outputs": [],
   "source": [
    "def word_count_dict(word_list):\n",
    "    word_count = {}\n",
    "    for word in word_list:\n",
    "        word = word.lower()\n",
    "        if not word in word_count:\n",
    "            word_count[word] = 1\n",
    "        else:\n",
    "            word_count[word] += 1\n",
    "    return word_count"
   ]
  },
  {
   "cell_type": "code",
   "execution_count": 20,
   "metadata": {},
   "outputs": [],
   "source": [
    "word_list = ['test', 'Test', 'apple', 'Apple', 'orange', 'dog', 'caT', 'CAT']\n",
    "\n",
    "words_cnt = word_count_dict(word_list)"
   ]
  },
  {
   "cell_type": "code",
   "execution_count": 21,
   "metadata": {},
   "outputs": [
    {
     "data": {
      "text/plain": [
       "{'test': 2, 'apple': 2, 'orange': 1, 'dog': 1, 'cat': 2}"
      ]
     },
     "execution_count": 21,
     "metadata": {},
     "output_type": "execute_result"
    }
   ],
   "source": [
    "words_cnt"
   ]
  },
  {
   "cell_type": "code",
   "execution_count": 22,
   "metadata": {},
   "outputs": [
    {
     "name": "stdout",
     "output_type": "stream",
     "text": [
      "test 2\n",
      "apple 2\n",
      "orange 1\n",
      "dog 1\n",
      "cat 2\n"
     ]
    }
   ],
   "source": [
    "for k, v in words_cnt.items():\n",
    "    print(k, v)"
   ]
  },
  {
   "cell_type": "markdown",
   "metadata": {},
   "source": [
    "### 계층적 자료구조 구성"
   ]
  },
  {
   "cell_type": "code",
   "execution_count": 23,
   "metadata": {},
   "outputs": [],
   "source": [
    "stock = {\n",
    "    'name': '삼성전자',\n",
    "    'market': 'KOSPI',\n",
    "    'close': [\n",
    "        ('2010-08-01', 45000),\n",
    "        ('2010-08-02', 47000),\n",
    "        ('2010-08-03', 42000),\n",
    "    ],\n",
    "    'market-cap': 2919097,\n",
    "    'PER': 15.17\n",
    "}"
   ]
  },
  {
   "cell_type": "code",
   "execution_count": 24,
   "metadata": {},
   "outputs": [
    {
     "data": {
      "text/plain": [
       "2919097"
      ]
     },
     "execution_count": 24,
     "metadata": {},
     "output_type": "execute_result"
    }
   ],
   "source": [
    "stock['market-cap']"
   ]
  },
  {
   "cell_type": "code",
   "execution_count": 25,
   "metadata": {},
   "outputs": [
    {
     "name": "stdout",
     "output_type": "stream",
     "text": [
      "2010-08-01 45000\n",
      "2010-08-02 47000\n",
      "2010-08-03 42000\n"
     ]
    }
   ],
   "source": [
    "for c in stock['close']:\n",
    "    print(c[0], c[1])"
   ]
  },
  {
   "cell_type": "code",
   "execution_count": 26,
   "metadata": {},
   "outputs": [],
   "source": [
    "stock['phone'] = '02-3455-2020'"
   ]
  },
  {
   "cell_type": "code",
   "execution_count": 27,
   "metadata": {},
   "outputs": [
    {
     "data": {
      "text/plain": [
       "{'name': '삼성전자',\n",
       " 'market': 'KOSPI',\n",
       " 'close': [('2010-08-01', 45000),\n",
       "  ('2010-08-02', 47000),\n",
       "  ('2010-08-03', 42000)],\n",
       " 'market-cap': 2919097,\n",
       " 'PER': 15.17,\n",
       " 'phone': '02-3455-2020'}"
      ]
     },
     "execution_count": 27,
     "metadata": {},
     "output_type": "execute_result"
    }
   ],
   "source": [
    "stock"
   ]
  },
  {
   "cell_type": "code",
   "execution_count": 28,
   "metadata": {},
   "outputs": [
    {
     "data": {
      "text/plain": [
       "dict_keys(['name', 'market', 'close', 'market-cap', 'PER', 'phone'])"
      ]
     },
     "execution_count": 28,
     "metadata": {},
     "output_type": "execute_result"
    }
   ],
   "source": [
    "stock.keys()"
   ]
  },
  {
   "cell_type": "markdown",
   "metadata": {},
   "source": [
    "### 연습문제\n",
    "\n",
    "1) 다음의 출력 결과는 ?\n",
    "\n",
    "    d = {'a': 2, 'b': 4, 'c': 9}\n",
    "    for x in sorted(d):\n",
    "        print(d[x], end=\"\")"
   ]
  },
  {
   "cell_type": "markdown",
   "metadata": {},
   "source": [
    "2) 다음의 출력 결과는 ?\n",
    "\n",
    "    d = {'a': 2, 'b': 4, 'c': 9}\n",
    "    for x in sorted(d.values()):\n",
    "        print(x, end=\"\")"
   ]
  },
  {
   "cell_type": "markdown",
   "metadata": {},
   "source": [
    "3) 다음의 출력 결과는 ?\n",
    "\n",
    "    d = {'a': 2, 'b': 4, 'c': 9}\n",
    "    for x in sorted(d.items()):\n",
    "        print(x, end=\"\")"
   ]
  },
  {
   "cell_type": "markdown",
   "metadata": {},
   "source": [
    "4) dictionary 를 이용하여 자신의 정보를 구조화 하여 작성  \n",
    "\n",
    "        ex) {'name': '오영제', \n",
    "              '성별': '남성', \n",
    "              '거주지': {'도시': '서울', '동': '충무로', '주소': '123-45'}, \n",
    "              '전화번호': 1012345678, \n",
    "              '신장': 175.17}"
   ]
  },
  {
   "cell_type": "markdown",
   "metadata": {},
   "source": [
    "5) 두개의 주사위를 던져서 두 주사위의 합이 같은 것끼리 출력하라.\n",
    "\n",
    "- pseudo-code\n",
    "\n",
    "```\n",
    "    d = {}\n",
    "    \n",
    "    Loop with 주사위1 from 1 to 6\n",
    "        Loop with 주사위2 from 1 to 6\n",
    "            newTuple = (주사위1, 주사위2)\n",
    "            added = 주사위1 + 주사위2\n",
    "            if added 가 d 에 없으면 empty list 를 d 에 추가\n",
    "            d 의 기존 list 에 append\n",
    "```"
   ]
  }
 ],
 "metadata": {
  "kernelspec": {
   "display_name": "Python 3",
   "language": "python",
   "name": "python3"
  },
  "language_info": {
   "codemirror_mode": {
    "name": "ipython",
    "version": 3
   },
   "file_extension": ".py",
   "mimetype": "text/x-python",
   "name": "python",
   "nbconvert_exporter": "python",
   "pygments_lexer": "ipython3",
   "version": "3.7.6"
  }
 },
 "nbformat": 4,
 "nbformat_minor": 2
}
