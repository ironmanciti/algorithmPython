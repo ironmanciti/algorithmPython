{
 "cells": [
  {
   "cell_type": "markdown",
   "metadata": {},
   "source": [
    "# 17. Files 입출력\n",
    "\n",
    "### open(file 명) 을 호출하면 해당 file 을 open 하고 file 객체를 반환한다.\n",
    "\n",
    "### f = open('file_name', 'r') : file read 를 위한 file 객체를 변수 f 로 저장\n",
    "\n",
    "### f = open('file_name', 'w') : file write 를 위한 file 객체를 변수 f 로 저장\n",
    "\n",
    "### f.close() : file close "
   ]
  },
  {
   "cell_type": "markdown",
   "metadata": {},
   "source": [
    "### 새로운 file 생성"
   ]
  },
  {
   "cell_type": "code",
   "execution_count": 1,
   "metadata": {},
   "outputs": [],
   "source": [
    "f = open('test.txt', 'w')\n",
    "f.write('This is file write test\\n')\n",
    "f.write('This is 2nd line\\n')\n",
    "f.write('이것은 3번째 줄입니다.')\n",
    "f.close()"
   ]
  },
  {
   "cell_type": "markdown",
   "metadata": {},
   "source": [
    "### 존재하는 file open"
   ]
  },
  {
   "cell_type": "code",
   "execution_count": 2,
   "metadata": {},
   "outputs": [
    {
     "name": "stdout",
     "output_type": "stream",
     "text": [
      "0\n",
      "This is file write test\n",
      "This is 2nd line\n",
      "이것은 3번째 줄입니다.\n",
      "65\n"
     ]
    }
   ],
   "source": [
    "f = open('test.txt', 'r')\n",
    "\n",
    "print(f.tell())\n",
    "\n",
    "text = f.read()\n",
    "\n",
    "print(text)\n",
    "\n",
    "print(f.tell())"
   ]
  },
  {
   "cell_type": "code",
   "execution_count": 3,
   "metadata": {},
   "outputs": [
    {
     "name": "stdout",
     "output_type": "stream",
     "text": [
      "This is file write test\n",
      "This is 2nd line\n",
      "이것은 3번째 줄입니다."
     ]
    }
   ],
   "source": [
    "f = open('test.txt', 'r')\n",
    "\n",
    "lines = f.readlines()\n",
    "\n",
    "for line in lines:\n",
    "    print(line, end=\"\")"
   ]
  },
  {
   "cell_type": "markdown",
   "metadata": {},
   "source": [
    "## try / except"
   ]
  },
  {
   "cell_type": "code",
   "execution_count": 5,
   "metadata": {},
   "outputs": [
    {
     "name": "stderr",
     "output_type": "stream",
     "text": [
      "file reading error : test2.txt"
     ]
    }
   ],
   "source": [
    "import sys\n",
    "file_name = 'test2.txt'\n",
    "\n",
    "try:\n",
    "    f = open(file_name, 'r')\n",
    "    text = f.read()\n",
    "    f.close()\n",
    "except IOError:\n",
    "    sys.stderr.write('file reading error : ' + file_name)"
   ]
  },
  {
   "cell_type": "markdown",
   "metadata": {},
   "source": [
    "## file path 지정"
   ]
  },
  {
   "cell_type": "code",
   "execution_count": 6,
   "metadata": {},
   "outputs": [
    {
     "data": {
      "text/plain": [
       "['.git',\n",
       " '.ipynb_checkpoints',\n",
       " '00.TableOfContets.ipynb',\n",
       " '01.print and help.ipynb',\n",
       " '02.arithmetic calculation.ipynb',\n",
       " '03.data-types.ipynb',\n",
       " '04.variable and practice.ipynb',\n",
       " '05.functions-variable scope-builtin function.ipynb',\n",
       " '06.list-indexing-slicing.ipynb',\n",
       " '07.for-loop-range.ipynb',\n",
       " '08.range.ipynb',\n",
       " '09.dictionary.ipynb',\n",
       " '10.string-escape-.ipynb',\n",
       " '11.string-methods and formatting.ipynb',\n",
       " '12.if-comparison-logical operation.ipynb',\n",
       " '13.import-module.ipynb',\n",
       " '14.object-oriented-programming.ipynb',\n",
       " '15.set.ipynb',\n",
       " '16-1.euclidGCD.pptx',\n",
       " '16.while-loop.ipynb',\n",
       " '17.File system .ipynb',\n",
       " '18-1.Regular Expression.pptx',\n",
       " '18.Regular Expression.ipynb',\n",
       " '19-1_factorialImage.pptx',\n",
       " '19.Functional Programming.ipynb',\n",
       " '20.List Comprehension.ipynb',\n",
       " '21.Binary Search Algoritym.ipynb',\n",
       " '22.Big-O notation and Algorithmic Analysis with Python.ipynb',\n",
       " '23-1.이항계수DP.pptx',\n",
       " '23.Memoization and Dynamic Programming.ipynb',\n",
       " '24-1.sorting.pptx',\n",
       " '24.Sort Algorithm.ipynb',\n",
       " '25.zipfile using Python.ipynb',\n",
       " '26.GraphDataStructure.ipynb',\n",
       " '27-1_dijkstraAlgorithm.pptx',\n",
       " '27.DijkstraAlgorithm by Graph OOP.ipynb',\n",
       " '28.DijkstraAlgorithm by non-OOP.ipynb',\n",
       " 'big_o_chart.jpg',\n",
       " 'bubblesort.PNG',\n",
       " 'Command_shortcuts.docx',\n",
       " 'compressed.zip',\n",
       " 'DPCOINLIST.PNG',\n",
       " 'DPCOINTree.PNG',\n",
       " 'DPCONLIST1.PNG',\n",
       " 'Factory and @classmethod.ipynb',\n",
       " 'graph_diagram.png',\n",
       " 'images',\n",
       " 'matrix.PNG',\n",
       " 'matrix_path.PNG',\n",
       " 'memoization.PNG',\n",
       " 'MergeSort.png',\n",
       " 'module_test.py',\n",
       " 'new_compressed_file.zip',\n",
       " 'new_file.txt',\n",
       " 'new_file2.txt',\n",
       " 'new_file_1.txt',\n",
       " 'new_file_2.txt',\n",
       " 'quicksort.PNG',\n",
       " 'selectionsort.png',\n",
       " 'sierpinski.PNG',\n",
       " 'test.ipnb',\n",
       " 'test.txt',\n",
       " 'test_text.txt',\n",
       " 'unzipped_content',\n",
       " 'unzipped_content_2',\n",
       " 'unzipped_content_3',\n",
       " 'zipped_content3.zip',\n",
       " '__pycache__',\n",
       " '사전 설문.docx']"
      ]
     },
     "execution_count": 6,
     "metadata": {},
     "output_type": "execute_result"
    }
   ],
   "source": [
    "import os\n",
    "\n",
    "os.listdir()"
   ]
  },
  {
   "cell_type": "code",
   "execution_count": 7,
   "metadata": {},
   "outputs": [
    {
     "data": {
      "text/plain": [
       "'C:\\\\Users\\\\trimu\\\\Desktop\\\\Algorithm 으로 배우는 Python\\\\jupytorNotebooks\\\\test.txt'"
      ]
     },
     "execution_count": 7,
     "metadata": {},
     "output_type": "execute_result"
    }
   ],
   "source": [
    "os.path.abspath('test.txt')"
   ]
  },
  {
   "cell_type": "code",
   "execution_count": 8,
   "metadata": {},
   "outputs": [
    {
     "data": {
      "text/plain": [
       "'C:\\\\Users\\\\trimu\\\\Desktop\\\\Python-Teaching\\\\jupytorNotebooks\\\\test.txt'"
      ]
     },
     "execution_count": 8,
     "metadata": {},
     "output_type": "execute_result"
    }
   ],
   "source": [
    "os.path.join('C:\\\\Users\\\\trimu\\\\Desktop\\\\Python-Teaching\\\\jupytorNotebooks', 'test.txt')"
   ]
  },
  {
   "cell_type": "code",
   "execution_count": 9,
   "metadata": {},
   "outputs": [
    {
     "data": {
      "text/plain": [
       "'C:\\\\Users\\\\trimu\\\\Desktop\\\\Algorithm 으로 배우는 Python\\\\jupytorNotebooks'"
      ]
     },
     "execution_count": 9,
     "metadata": {},
     "output_type": "execute_result"
    }
   ],
   "source": [
    "os.path.dirname(os.path.abspath('test.txt'))"
   ]
  },
  {
   "cell_type": "code",
   "execution_count": 10,
   "metadata": {},
   "outputs": [
    {
     "data": {
      "text/plain": [
       "True"
      ]
     },
     "execution_count": 10,
     "metadata": {},
     "output_type": "execute_result"
    }
   ],
   "source": [
    "os.path.exists('test.txt')"
   ]
  },
  {
   "cell_type": "markdown",
   "metadata": {},
   "source": [
    "## with open 문으로 file 읽기/쓰기\n",
    "\n",
    "#### with 문을 이용하면 with 블록을 벗어나는 순간 열린 파일 객체가 자동으로 close되어 편리함."
   ]
  },
  {
   "cell_type": "code",
   "execution_count": 11,
   "metadata": {},
   "outputs": [
    {
     "name": "stdout",
     "output_type": "stream",
     "text": [
      "This is file write test\n",
      "This is 2nd line\n",
      "이것은 3번째 줄입니다.\n"
     ]
    }
   ],
   "source": [
    "with open('test.txt', \"r\") as file2:\n",
    "    data = file2.read()\n",
    "\n",
    "print(data)"
   ]
  },
  {
   "cell_type": "code",
   "execution_count": 12,
   "metadata": {},
   "outputs": [],
   "source": [
    "with open('test.txt', \"w\") as file3:\n",
    "    data = file3.write(\"This is 3rd line\")"
   ]
  },
  {
   "cell_type": "markdown",
   "metadata": {},
   "source": [
    "### requests\n",
    "\n",
    "requests module 을 이용하여 url 을 fetch 할 수 있다."
   ]
  },
  {
   "cell_type": "code",
   "execution_count": 13,
   "metadata": {},
   "outputs": [],
   "source": [
    "import requests"
   ]
  },
  {
   "cell_type": "code",
   "execution_count": 14,
   "metadata": {},
   "outputs": [],
   "source": [
    "source = requests.get('http://www.google.com')"
   ]
  },
  {
   "cell_type": "code",
   "execution_count": 15,
   "metadata": {},
   "outputs": [],
   "source": [
    "html = source.text"
   ]
  },
  {
   "cell_type": "code",
   "execution_count": 16,
   "metadata": {},
   "outputs": [
    {
     "data": {
      "text/plain": [
       "'<!doctype html><html itemscope=\"\" itemtype=\"http://schema.org/WebPage\" lang=\"ko\"><head><meta content=\"text/html; charset=UTF-8\" http-equiv=\"Content-Type\"><meta content=\"/images/branding/googleg/1x/googleg_standard_color_128dp.png\" itemprop=\"image\"><title>Google</title><script nonce=\"xEP6SYNqIxWZ3xv69r5yCw==\">(function(){window.google={kEI:\\'wEQyXqH9NcynoATs_LD4DA\\',kEXPI:\\'0,18168,1335579,5662,730,32,192,5105,206,2955,249,10,50,1001,175,364,1366,69,4,60,690,52,75,383,849,252,1128270,1197730,294,125,39,329079,1294,12383,4855,32691,15248,867,6056,13341,9287,363,3320,5505,8384,4859,1361,4323,4967,3028,2816,1924,3118,7915,1808,1976,2044,8909,5072,225,2054,920,873,1217,1710,1,1264,2784,2607,315,724,11306,2884,20,317,1981,2537,1396,1381,520,399,2277,8,2796,1593,1279,390,1822,202,328,149,1103,840,520,1471,48,158,662,3438,260,52,1137,2,2063,606,1839,184,545,1232,520,1947,245,502,429,44,1009,93,328,1284,16,84,417,1708,718,1425,214,608,473,1339,748,209,830,2197,1030,773,2072,7,1320,3488,791,469,311'"
      ]
     },
     "execution_count": 16,
     "metadata": {},
     "output_type": "execute_result"
    }
   ],
   "source": [
    "html[:1000]"
   ]
  },
  {
   "cell_type": "markdown",
   "metadata": {},
   "source": [
    "### 연습문제\n",
    "\n",
    "다음 문장을 file 에 write 하고 다시 읽어서 print 한다.\n",
    "\n",
    "\"한국소프트웨어 산업협회 훈련과정 :   \n",
    "알고리즘으로 배우는 Python\""
   ]
  }
 ],
 "metadata": {
  "kernelspec": {
   "display_name": "Python 3",
   "language": "python",
   "name": "python3"
  },
  "language_info": {
   "codemirror_mode": {
    "name": "ipython",
    "version": 3
   },
   "file_extension": ".py",
   "mimetype": "text/x-python",
   "name": "python",
   "nbconvert_exporter": "python",
   "pygments_lexer": "ipython3",
   "version": "3.7.6"
  }
 },
 "nbformat": 4,
 "nbformat_minor": 2
}
