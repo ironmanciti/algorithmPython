{
 "cells": [
  {
   "cell_type": "markdown",
   "metadata": {
    "collapsed": true
   },
   "source": [
    "# 26. Graph Data Structure\n",
    "\n",
    "### 그래프는 노드(node)와 그 노드를 연결하는 간선(edge)을 하나로 모아 놓은 자료 구조를 말한다.\n",
    "\n",
    "### 노드 (Node)\n",
    "\n",
    "정점(vertex)라고도 부르며 위치를 나타낸다.\n",
    "\n",
    "### Edge (간선)\n",
    "\n",
    "위치간의 연결선을 나타낸다. 일방향 혹은 양방향일 수 있다. \n",
    "\n",
    "###  가중치 (weight)\n",
    "\n",
    "두 node 사이를 이동하는 비용 (cost) 를 의미한다. 예를 들어 두개의 도시(node) 를 연결하는 길의 가중치는 두 도시 사이의 거리이다.\n",
    "\n",
    "### 그래프 (Graph)\n",
    "\n",
    "그래프는 $G=(V,E)$ 로 표시할 수 있고, 각 edge 는 연결되는 node 와 weight 의 tuple 로 표시한다  $(node1, node2, weight)$.\n",
    "\n",
    "<img src=\"graph_diagram.png\" width=\"300\">\n",
    "\n",
    "\n",
    "6 개의 node 와 9 개의 edge 로 구성된 위 그래프는 다음과 같이 node 와 edge 의 집합(set) 으로 표시한다.\n",
    "\n",
    "$$V=\\{a,b,c,d,e,f\\}$$\n",
    "\n",
    "$$E=\\{(a,b,7),(a,c,9),(a,f,14),(b,d,15),(b,c,10),(c,d,11),(c,f,2),(d,e,6),(e,f,9)\\}$$\n",
    "\n",
    "### 경로 (Path)\n",
    "\n",
    "경로는 node 를 통과하는 순서이다. 경로의 길이는 node 사이 edge 의 weight 를 모두 합한 것이다.\n",
    "예를 들어 경로 $(a, c, d, e)$ 의 edge 는 $\\{(a, c, 9), (c, d, 11), (d, e, 6)\\}$ 이 되고 경로의 길이는 26 이다.\n",
    "\n",
    "\n",
    "### Python class 를 이용한 Graph 구조 구현"
   ]
  },
  {
   "cell_type": "code",
   "execution_count": 1,
   "metadata": {},
   "outputs": [
    {
     "name": "stdout",
     "output_type": "stream",
     "text": [
      "1\n",
      "3\n",
      "5\n",
      "7\n"
     ]
    }
   ],
   "source": [
    "# __iter__ : iterable object 반환\n",
    "\n",
    "class Atest:\n",
    "    def __init__(self, values=None):\n",
    "        if values is None:\n",
    "            self.values = []\n",
    "        else:\n",
    "            self.values = values\n",
    "            \n",
    "    def __iter__(self):\n",
    "        return iter(self.values)\n",
    "    \n",
    "a = Atest([1,3,5,7])\n",
    "\n",
    "for n in a:\n",
    "    print(n)"
   ]
  },
  {
   "cell_type": "code",
   "execution_count": 2,
   "metadata": {},
   "outputs": [],
   "source": [
    "class Graph:\n",
    "    def __init__(self):\n",
    "        self.adjacentList = {}              # 인접한 이웃 node list\n",
    "    \n",
    "    def __iter__(self):\n",
    "        return iter(self.adjacentList.items())     # 인접한 이웃 node list iterable object 반환\n",
    "        \n",
    "    def add_vertex(self, vertex):                    # 그래프에 새로운 node 추가\n",
    "        if not vertex in self.adjacentList:          \n",
    "            self.adjacentList[vertex] = []            # 새로이 추가된 node 에는 아직 edge 가 없음\n",
    "\n",
    "    def add_edge(self, v1, v2, weight):           # 새로운 edge 등록 (이웃 node 와 가중치)\n",
    "        self.adjacentList[v1].append({'node': v2, 'weight': weight})\n",
    "        self.adjacentList[v2].append({'node': v1, 'weight': weight})"
   ]
  },
  {
   "cell_type": "code",
   "execution_count": 3,
   "metadata": {},
   "outputs": [
    {
     "name": "stdout",
     "output_type": "stream",
     "text": [
      "('a', [{'node': 'b', 'weight': 7}, {'node': 'c', 'weight': 9}, {'node': 'f', 'weight': 14}])\n",
      "('b', [{'node': 'a', 'weight': 7}, {'node': 'c', 'weight': 10}, {'node': 'd', 'weight': 15}])\n",
      "('c', [{'node': 'a', 'weight': 9}, {'node': 'b', 'weight': 10}, {'node': 'd', 'weight': 11}, {'node': 'f', 'weight': 2}])\n",
      "('d', [{'node': 'b', 'weight': 15}, {'node': 'c', 'weight': 11}, {'node': 'e', 'weight': 6}])\n",
      "('e', [{'node': 'd', 'weight': 6}, {'node': 'f', 'weight': 9}])\n",
      "('f', [{'node': 'a', 'weight': 14}, {'node': 'c', 'weight': 2}, {'node': 'e', 'weight': 9}])\n"
     ]
    }
   ],
   "source": [
    "g = Graph()\n",
    "\n",
    "g.add_vertex('a')\n",
    "g.add_vertex('b')\n",
    "g.add_vertex('c')\n",
    "g.add_vertex('d')\n",
    "g.add_vertex('e')\n",
    "g.add_vertex('f')\n",
    "\n",
    "g.add_edge('a','b',7)\n",
    "g.add_edge('a','c',9)\n",
    "g.add_edge('a','f',14)\n",
    "g.add_edge('b','c',10)\n",
    "g.add_edge('b','d',15)\n",
    "g.add_edge('c','d',11)\n",
    "g.add_edge('c','f',2)\n",
    "g.add_edge('d','e',6)\n",
    "g.add_edge('e','f',9)\n",
    "\n",
    "for node in g:\n",
    "    print(node)"
   ]
  },
  {
   "cell_type": "markdown",
   "metadata": {},
   "source": [
    "## NetworkX 를 이용한 graph 시각화"
   ]
  },
  {
   "cell_type": "code",
   "execution_count": 4,
   "metadata": {},
   "outputs": [
    {
     "name": "stdout",
     "output_type": "stream",
     "text": [
      "Nodes of graph: \n",
      "['a', 'b', 'c', 1, 2, 'd', 'e']\n",
      "Edges of graph: \n",
      "[('a', 'b'), (1, 2), ('d', 'e')]\n"
     ]
    },
    {
     "data": {
      "image/png": "[encoded data removed]",
      "text/plain": [
       "<Figure size 432x288 with 1 Axes>"
      ]
     },
     "metadata": {},
     "output_type": "display_data"
    }
   ],
   "source": [
    "import networkx as nx\n",
    "G=nx.Graph()\n",
    "\n",
    "G.add_node(\"a\")                    # graph 에 'a' 추가\n",
    "G.add_nodes_from([\"b\",\"c\"])  # node 여러개를 한번에 추가\n",
    "\n",
    "G.add_edge(1,2)                    # node 1, 2 사이에 edge 추가\n",
    "edge = (\"d\", \"e\")\n",
    "G.add_edge(*edge)                # node d, e 사이에 edge 추가\n",
    "edge = (\"a\", \"b\")\n",
    "G.add_edge(*edge)                # node a, b 사에에 edge 추가\n",
    "\n",
    "print(\"Nodes of graph: \")\n",
    "print(G.nodes())\n",
    "print(\"Edges of graph: \")\n",
    "print(G.edges())\n",
    "\n",
    "nx.draw(G, with_labels = True)"
   ]
  },
  {
   "cell_type": "code",
   "execution_count": 5,
   "metadata": {},
   "outputs": [
    {
     "data": {
      "image/png": "[encoded data removed]",
      "text/plain": [
       "<Figure size 432x288 with 1 Axes>"
      ]
     },
     "metadata": {},
     "output_type": "display_data"
    }
   ],
   "source": [
    "# adding a list of edges:\n",
    "G.add_edges_from([(\"a\",\"c\"),(\"c\",\"d\"), (\"a\",1), (1,\"d\"), (\"a\",2)])\n",
    "\n",
    "nx.draw(G, with_labels = True)"
   ]
  },
  {
   "cell_type": "code",
   "execution_count": 6,
   "metadata": {},
   "outputs": [
    {
     "data": {
      "image/png": "[encoded data removed]",
      "text/plain": [
       "<Figure size 432x288 with 1 Axes>"
      ]
     },
     "metadata": {},
     "output_type": "display_data"
    }
   ],
   "source": [
    "H = nx.Graph()\n",
    "\n",
    "H.add_edge('a','b')\n",
    "H.add_edge('a','c')\n",
    "H.add_edge('a','f')\n",
    "H.add_edge('b','c')\n",
    "H.add_edge('b','d')\n",
    "H.add_edge('c','d')\n",
    "H.add_edge('c','f')\n",
    "H.add_edge('d','e')\n",
    "H.add_edge('e','f')\n",
    "\n",
    "nx.draw(H, with_labels = True)"
   ]
  },
  {
   "cell_type": "markdown",
   "metadata": {},
   "source": [
    "## 연습문제\n",
    "\n",
    "- 위에서 작성한 Graph g 에서 세개의 node 를 연결 (두개의 구간 연결)하는 거리를 계산하는 함수를 작성하세요"
   ]
  },
  {
   "cell_type": "code",
   "execution_count": 7,
   "metadata": {},
   "outputs": [
    {
     "data": {
      "text/plain": [
       "{'a': [{'node': 'b', 'weight': 7},\n",
       "  {'node': 'c', 'weight': 9},\n",
       "  {'node': 'f', 'weight': 14}],\n",
       " 'b': [{'node': 'a', 'weight': 7},\n",
       "  {'node': 'c', 'weight': 10},\n",
       "  {'node': 'd', 'weight': 15}],\n",
       " 'c': [{'node': 'a', 'weight': 9},\n",
       "  {'node': 'b', 'weight': 10},\n",
       "  {'node': 'd', 'weight': 11},\n",
       "  {'node': 'f', 'weight': 2}],\n",
       " 'd': [{'node': 'b', 'weight': 15},\n",
       "  {'node': 'c', 'weight': 11},\n",
       "  {'node': 'e', 'weight': 6}],\n",
       " 'e': [{'node': 'd', 'weight': 6}, {'node': 'f', 'weight': 9}],\n",
       " 'f': [{'node': 'a', 'weight': 14},\n",
       "  {'node': 'c', 'weight': 2},\n",
       "  {'node': 'e', 'weight': 9}]}"
      ]
     },
     "execution_count": 7,
     "metadata": {},
     "output_type": "execute_result"
    }
   ],
   "source": [
    "g.adjacentList"
   ]
  },
  {
   "cell_type": "code",
   "execution_count": null,
   "metadata": {},
   "outputs": [],
   "source": [
    "def connect(a, b, c):\n",
    "    \n",
    "    def dist(x, y):\n",
    "        for n in g.adjacentList[x]:\n",
    "            \n",
    "            # CODE HERE\n",
    "    \n",
    "    return dist(a, b) + dist(b, c)"
   ]
  },
  {
   "cell_type": "code",
   "execution_count": 9,
   "metadata": {},
   "outputs": [
    {
     "data": {
      "text/plain": [
       "17"
      ]
     },
     "execution_count": 9,
     "metadata": {},
     "output_type": "execute_result"
    }
   ],
   "source": [
    "connect('a', 'b', 'c')"
   ]
  }
 ],
 "metadata": {
  "kernelspec": {
   "display_name": "Python 3",
   "language": "python",
   "name": "python3"
  },
  "language_info": {
   "codemirror_mode": {
    "name": "ipython",
    "version": 3
   },
   "file_extension": ".py",
   "mimetype": "text/x-python",
   "name": "python",
   "nbconvert_exporter": "python",
   "pygments_lexer": "ipython3",
   "version": "3.7.6"
  }
 },
 "nbformat": 4,
 "nbformat_minor": 2
}
