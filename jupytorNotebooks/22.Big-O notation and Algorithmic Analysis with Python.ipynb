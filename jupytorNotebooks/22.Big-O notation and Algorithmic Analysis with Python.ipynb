{
 "cells": [
  {
   "cell_type": "markdown",
   "metadata": {},
   "source": [
    "# 22. Big-O 표기법 (Big-O notation)\n",
    "\n",
    "- 시간복잡도를 측정하는 방법\n",
    "\n",
    "\n",
    "- 동일한 문제를 여러가지 알고리즘으로 구현할 수 있으나 각 알고리즘이 얼마나 빠른지 비교할 수 있는 기준으로 Big-O 표기법 사용.\n",
    "\n",
    "<img src=\"big_o_chart.jpg\" width=\"300\">\n",
    "\n",
    "\n",
    "- Big-O 표기법은 algorithm 에 어떤 input 이 들어가서 결과가 나올 때까지 몇단계의 실행문을 거치는지 표시해 준다. 예를 들어, n 번의 실행문을 거치면 O(n), $n^2 $번이면 O($n^2$) 으로 표시한다.  \n",
    "\n",
    "\n",
    "- Jupyter notebook 의 경우 %timeit magic command 로 두가지 알고리즘의 수행시간을 비교할 수 있으나, CPU 속도에 dependent 하므로 알고리즘의 복잡성을 측정하는 기준으로 사용하기 어렵다. \n",
    "\n",
    "\n",
    "- 일반적인 Big-O 기준\n",
    "\n",
    "> insertion / removel / access / push / pop - O(1)  \n",
    "> Linear Searching - O(n)  \n",
    "> List Push/Pop - O(1)  \n",
    "> List slice / concatenate - O(n)    \n",
    "> Bubble Sort : O($n^2$)  \n",
    "> Sort - O(nlogn) : merge sort, quick sort  \n",
    "> for / map / filter / reduce - O(n)  \n"
   ]
  },
  {
   "cell_type": "code",
   "execution_count": 1,
   "metadata": {},
   "outputs": [
    {
     "name": "stdout",
     "output_type": "stream",
     "text": [
      "120\n"
     ]
    }
   ],
   "source": [
    "def factorial_1(n):  \n",
    "    product = 1\n",
    "    for i in range(n):\n",
    "        product = product * (i+1)\n",
    "    return product\n",
    "\n",
    "print (factorial_1(5))  "
   ]
  },
  {
   "cell_type": "code",
   "execution_count": 2,
   "metadata": {},
   "outputs": [
    {
     "name": "stdout",
     "output_type": "stream",
     "text": [
      "120\n"
     ]
    }
   ],
   "source": [
    "def factorial_2(n):  \n",
    "    if n == 0:\n",
    "        return 1\n",
    "    else:\n",
    "        return n * factorial_2(n-1)\n",
    "\n",
    "print (factorial_2(5))  "
   ]
  },
  {
   "cell_type": "code",
   "execution_count": 3,
   "metadata": {},
   "outputs": [
    {
     "name": "stdout",
     "output_type": "stream",
     "text": [
      "4.91 µs ± 617 ns per loop (mean ± std. dev. of 7 runs, 100000 loops each)\n"
     ]
    }
   ],
   "source": [
    "%timeit factorial_1(50)"
   ]
  },
  {
   "cell_type": "code",
   "execution_count": 4,
   "metadata": {},
   "outputs": [
    {
     "name": "stdout",
     "output_type": "stream",
     "text": [
      "7.64 µs ± 726 ns per loop (mean ± std. dev. of 7 runs, 100000 loops each)\n"
     ]
    }
   ],
   "source": [
    "%timeit factorial_2(50)"
   ]
  },
  {
   "cell_type": "markdown",
   "metadata": {},
   "source": [
    "### O(1) : input 크기에 무관하게 항상 한번의 연산만 수행"
   ]
  },
  {
   "cell_type": "code",
   "execution_count": 5,
   "metadata": {},
   "outputs": [
    {
     "name": "stdout",
     "output_type": "stream",
     "text": [
      "16\n"
     ]
    }
   ],
   "source": [
    "def constant_algo(items):  \n",
    "    result = items[0] * items[0]\n",
    "    print (result)\n",
    "\n",
    "constant_algo([4, 5, 6, 8])  "
   ]
  },
  {
   "cell_type": "markdown",
   "metadata": {},
   "source": [
    "### O(n) : 선형복잡도 (Linear Complexity)\n",
    "\n",
    "입력자료의 갯수에 따라 수행 시간이 선형으로 증가 한다."
   ]
  },
  {
   "cell_type": "code",
   "execution_count": 6,
   "metadata": {},
   "outputs": [],
   "source": [
    "lst = []\n",
    "def linear_algo(items):  \n",
    "    for item in items:\n",
    "        lst.append(item)"
   ]
  },
  {
   "cell_type": "code",
   "execution_count": 7,
   "metadata": {},
   "outputs": [
    {
     "name": "stdout",
     "output_type": "stream",
     "text": [
      "10.8 µs ± 817 ns per loop (mean ± std. dev. of 7 runs, 100000 loops each)\n"
     ]
    }
   ],
   "source": [
    "%timeit linear_algo(list(range(100)))  "
   ]
  },
  {
   "cell_type": "code",
   "execution_count": 8,
   "metadata": {},
   "outputs": [
    {
     "name": "stdout",
     "output_type": "stream",
     "text": [
      "115 µs ± 20 µs per loop (mean ± std. dev. of 7 runs, 10000 loops each)\n"
     ]
    }
   ],
   "source": [
    "%timeit linear_algo(list(range(1000)))  "
   ]
  },
  {
   "cell_type": "markdown",
   "metadata": {},
   "source": [
    "### O($n^2$) : 제곱증가 복잡도 (Quadratic Complexity)"
   ]
  },
  {
   "cell_type": "code",
   "execution_count": 9,
   "metadata": {},
   "outputs": [],
   "source": [
    "def quadratic_algo(items):  \n",
    "    n2items = []\n",
    "    for item in items:\n",
    "        for item2 in items:\n",
    "            n2items.append(item2)"
   ]
  },
  {
   "cell_type": "code",
   "execution_count": 10,
   "metadata": {},
   "outputs": [
    {
     "name": "stdout",
     "output_type": "stream",
     "text": [
      "535 µs ± 58 µs per loop (mean ± std. dev. of 7 runs, 1000 loops each)\n"
     ]
    }
   ],
   "source": [
    "%timeit quadratic_algo(list(range(100)))  "
   ]
  },
  {
   "cell_type": "code",
   "execution_count": 11,
   "metadata": {},
   "outputs": [
    {
     "name": "stdout",
     "output_type": "stream",
     "text": [
      "2.02 ms ± 210 µs per loop (mean ± std. dev. of 7 runs, 100 loops each)\n"
     ]
    }
   ],
   "source": [
    "%timeit quadratic_algo(list(range(200)))  "
   ]
  },
  {
   "cell_type": "markdown",
   "metadata": {},
   "source": [
    "### O(log n)\n",
    "\n",
    "big-O notation 에서 사용하는 log 는 일반적으로 밑이 2 인 log 이다. 즉,\n",
    "\n",
    "$$2^0 = 1 \\;\\;\\;\\;\\;\\; log_2{1} = 0$$\n",
    "$$2^1 = 2 \\;\\;\\;\\;\\;\\; log_2{2} = 1$$\n",
    "$$2^2 = 4 \\;\\;\\;\\;\\;\\; log_2{4} = 2$$\n",
    "$$2^3 = 8 \\;\\;\\;\\;\\;\\; log_2{8} = 3$$\n",
    "$$2^{10} = 1024 \\;\\;\\;\\;\\;\\; log_2{1024} = 10$$\n",
    "\n",
    "log 안의 숫자가 2 배로 늘어도 log 값은 선형으로 증가한다.  \n",
    "대표적인 O(log N) 알고리즘은 이진탐색(binary search) 이다. 이진탐색은 target value 를 찾을 때까지 input data 를 절반씩 잘라내어 탐색하므로 data 의 log 값 만큼만 계산 시간이 증가한다."
   ]
  },
  {
   "cell_type": "code",
   "execution_count": 15,
   "metadata": {},
   "outputs": [
    {
     "name": "stdout",
     "output_type": "stream",
     "text": [
      "[1, 2, 3, 4, 5, 6, 7, 8, 9, 10, 11, 12, 13, 14, 15, 16, 17, 18, 19, 20, 21, 22, 23, 24, 25, 26, 27, 28, 29, 30, 31, 32, 33, 34, 35, 36, 37, 38, 39, 40, 41, 42, 43, 44, 45, 46, 47, 48, 49, 50, 51, 52, 53, 54, 55, 56, 57, 58, 59, 60, 61, 62, 63, 64, 65, 66, 67, 68, 69, 70, 71, 72, 73, 74, 75, 76, 77, 78, 79, 80, 81, 82, 83, 84, 85, 86, 87, 88, 89, 90, 91, 92, 93, 94, 95, 96, 97, 98, 99, 100]\n"
     ]
    }
   ],
   "source": [
    "n = 100\n",
    "lst = list(range(1, n+1))\n",
    "print(lst)"
   ]
  },
  {
   "cell_type": "markdown",
   "metadata": {},
   "source": [
    "### Brute-force algorithm : 모든 가능한 경우를 순차적으로 시도\n",
    "\n",
    "O(n)"
   ]
  },
  {
   "cell_type": "code",
   "execution_count": 18,
   "metadata": {},
   "outputs": [
    {
     "data": {
      "text/plain": [
       "100"
      ]
     },
     "execution_count": 18,
     "metadata": {},
     "output_type": "execute_result"
    }
   ],
   "source": [
    "def findNumber_Brute(n, lst):\n",
    "    search_count = 1\n",
    "    \n",
    "    for x in lst:\n",
    "        if x == n:\n",
    "            return search_count\n",
    "        else:\n",
    "            search_count += 1\n",
    "\n",
    "findNumber_Brute(100, lst)"
   ]
  },
  {
   "cell_type": "markdown",
   "metadata": {},
   "source": [
    "### 이진 탐색 (Binary Search)\n",
    "\n",
    "O(log n)"
   ]
  },
  {
   "cell_type": "code",
   "execution_count": 19,
   "metadata": {},
   "outputs": [],
   "source": [
    "def findnumber_Binary(n, lst):\n",
    "    start = 0\n",
    "    end  = len(lst) \n",
    "    numbers = lst\n",
    "    search_count = 0\n",
    "    \n",
    "    while (start < end):\n",
    "        search_count += 1\n",
    "        middle = len(numbers) // 2                    # 가운데의 위치\n",
    "        \n",
    "        if numbers[middle] == n: \n",
    "            return search_count\n",
    "        elif numbers[middle] > n:                  # 찾으려는 단어가 아래쪽 절반에 위치\n",
    "            start, end = 0, middle\n",
    "        else:\n",
    "            start, end = middle+1, len(numbers)   # 찾으려는 단어가 위쪽 절반에 위치\n",
    "            \n",
    "        numbers =  numbers[start : end]"
   ]
  },
  {
   "cell_type": "code",
   "execution_count": 20,
   "metadata": {},
   "outputs": [
    {
     "name": "stdout",
     "output_type": "stream",
     "text": [
      "6\n"
     ]
    }
   ],
   "source": [
    "print(findnumber_Binary(50, lst))"
   ]
  },
  {
   "cell_type": "code",
   "execution_count": 21,
   "metadata": {},
   "outputs": [
    {
     "name": "stdout",
     "output_type": "stream",
     "text": [
      "17\n"
     ]
    }
   ],
   "source": [
    "n = 100000\n",
    "lst2 = list(range(1, n+1))\n",
    "print(findnumber_Binary(50, lst2))"
   ]
  },
  {
   "cell_type": "markdown",
   "metadata": {},
   "source": [
    "**O(log n)**"
   ]
  },
  {
   "cell_type": "code",
   "execution_count": 22,
   "metadata": {},
   "outputs": [
    {
     "name": "stdout",
     "output_type": "stream",
     "text": [
      "6.643856189774725\n",
      "16.609640474436812\n"
     ]
    }
   ],
   "source": [
    "import math\n",
    "\n",
    "print(math.log(100, 2))\n",
    "print(math.log(100000, 2))"
   ]
  },
  {
   "cell_type": "markdown",
   "metadata": {},
   "source": [
    "### Big-O 연습문제"
   ]
  },
  {
   "cell_type": "markdown",
   "metadata": {},
   "source": [
    "1) 다음 code 의 Big-O 수행시간은 ?\n",
    "\n",
    "    test = 0\n",
    "    for i in range(n):\n",
    "        for j in range(n):\n",
    "            test = test + i * j"
   ]
  },
  {
   "cell_type": "markdown",
   "metadata": {},
   "source": [
    "2) 다음 code 의 Big-O 수행시간은 ?\n",
    "\n",
    "    test = 0\n",
    "    for i in range(n):\n",
    "        test = test + 1\n",
    "    for j in range(n)\n",
    "        test = test - 1"
   ]
  },
  {
   "cell_type": "markdown",
   "metadata": {},
   "source": [
    "3) 다음 code 의 Big-O 수행시간은 ?\n",
    "\n",
    "    i = n\n",
    "    while i > 0:\n",
    "        k = 2  + 2\n",
    "        i = i // 2"
   ]
  }
 ],
 "metadata": {
  "kernelspec": {
   "display_name": "Python 3",
   "language": "python",
   "name": "python3"
  },
  "language_info": {
   "codemirror_mode": {
    "name": "ipython",
    "version": 3
   },
   "file_extension": ".py",
   "mimetype": "text/x-python",
   "name": "python",
   "nbconvert_exporter": "python",
   "pygments_lexer": "ipython3",
   "version": "3.7.3"
  }
 },
 "nbformat": 4,
 "nbformat_minor": 2
}
